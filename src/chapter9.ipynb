{
 "cells": [
  {
   "cell_type": "code",
   "execution_count": 2,
   "id": "c632731c-1b55-4c77-b692-2e97b548ebd3",
   "metadata": {},
   "outputs": [
    {
     "name": "stdout",
     "output_type": "stream",
     "text": [
      "['0', '0', '0']\n",
      "Score: 0\n",
      "['0', 'BBB', '0']\n",
      "Score: 0\n",
      "['BB', 'B', 'B']\n",
      "Score: 5\n",
      "['0', 'BBB', 'BB']\n",
      "Score: 0\n",
      "['0', '0', '0']\n",
      "Score: 0\n",
      "['B', 'C', '7']\n",
      "Score: 2\n"
     ]
    }
   ],
   "source": [
    "import random\n",
    "\n",
    "def get_symbols():\n",
    "    wheel = [\"DD\", \"7\", \"BBB\", \"BB\", \"B\", \"C\", \"0\"]\n",
    "    probabilities = [0.03, 0.03, 0.06, 0.1, 0.25, 0.01, 0.52]\n",
    "    return random.choices(wheel, k=3, weights=probabilities)\n",
    "\n",
    "def score(symbols):\n",
    "    same = symbols[0] == symbols[1] == symbols[2]\n",
    "    bars = all(symbol in [\"B\", \"BB\", \"BBB\"] for symbol in symbols)\n",
    "\n",
    "    payouts = {\"DD\": 100, \"7\": 80, \"BBB\": 40, \"BB\": 25, \"B\": 10, \"C\": 10, \"0\": 0}\n",
    "\n",
    "    if same:\n",
    "        prize = payouts[symbols[0]]\n",
    "    elif bars:\n",
    "        prize = 5\n",
    "    else:\n",
    "        cherries = symbols.count(\"C\")\n",
    "        prize = [0, 2, 5][cherries]\n",
    "\n",
    "    diamonds = symbols.count(\"DD\")\n",
    "    return prize * (2 ** diamonds)\n",
    "\n",
    "def play():\n",
    "    symbols = get_symbols()\n",
    "    print(symbols)\n",
    "    score_value = score(symbols)\n",
    "    print(f\"Score: {score_value}\")\n",
    "    return score_value\n",
    "\n",
    "for _ in range(6):\n",
    "    play()\n"
   ]
  },
  {
   "cell_type": "code",
   "execution_count": null,
   "id": "35a64b46-8221-4496-9042-8c2521c08669",
   "metadata": {},
   "outputs": [],
   "source": []
  }
 ],
 "metadata": {
  "kernelspec": {
   "display_name": "Python 3 (ipykernel)",
   "language": "python",
   "name": "python3"
  },
  "language_info": {
   "codemirror_mode": {
    "name": "ipython",
    "version": 3
   },
   "file_extension": ".py",
   "mimetype": "text/x-python",
   "name": "python",
   "nbconvert_exporter": "python",
   "pygments_lexer": "ipython3",
   "version": "3.8.17"
  }
 },
 "nbformat": 4,
 "nbformat_minor": 5
}
